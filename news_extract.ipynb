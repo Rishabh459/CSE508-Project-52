{
 "cells": [
  {
   "cell_type": "code",
   "execution_count": 1,
   "metadata": {},
   "outputs": [],
   "source": [
    "import pandas as pd\n",
    "import numpy as np\n",
    "import matplotlib.pyplot as plt\n",
    "import seaborn as sns\n",
    "import warnings\n",
    "warnings.filterwarnings('ignore')\n",
    "\n",
    "import tweepy\n",
    "from tweepy import OAuthHandler"
   ]
  },
  {
   "cell_type": "code",
   "execution_count": 7,
   "metadata": {},
   "outputs": [],
   "source": [
    "# code to extract news from the news sites using the tages given, only extrat news from the given sources like bbc, cnn\n",
    "# tags are crypto, tech, business, sports, entertainment, politics, health, science, travel, lifestyle, world, india\n",
    "# Path: news_extract.ipynb\n",
    "import requests\n",
    "from bs4 import BeautifulSoup\n",
    "import pandas as pd\n",
    "import numpy as np\n",
    "import matplotlib.pyplot as plt\n",
    "import seaborn as sns\n",
    "import warnings\n",
    "warnings.filterwarnings('ignore')\n",
    "import json\n",
    "\n",
    "def get_news_from_sources(queries):\n",
    "    for query in queries:\n",
    "        url = 'https://newsapi.org/v2/everything?q='+ query + '&from=2023-02-24&apiKey=3c13fba7c0a348aa811c739db22841be'\n",
    "        response = requests.get(url)\n",
    "        # save the response in a json file\n",
    "        with open(query + '.json', 'w') as f:\n",
    "            json.dump(response.json(), f, indent = 4)\n",
    "\n",
    "queries = ['crypto', 'tech', 'business', 'spacex', 'tesla', 'politics', 'AI', 'environment', 'youth activism', 'sustainable', 'climate change', 'social justice', 'women rights', 'sports', 'entertainment', 'cricket', 'comedy', 'chess']\n",
    "get_news_from_sources(queries)"
   ]
  },
  {
   "cell_type": "code",
   "execution_count": null,
   "metadata": {},
   "outputs": [],
   "source": []
  }
 ],
 "metadata": {
  "kernelspec": {
   "display_name": "base",
   "language": "python",
   "name": "python3"
  },
  "language_info": {
   "codemirror_mode": {
    "name": "ipython",
    "version": 3
   },
   "file_extension": ".py",
   "mimetype": "text/x-python",
   "name": "python",
   "nbconvert_exporter": "python",
   "pygments_lexer": "ipython3",
   "version": "3.8.5"
  },
  "orig_nbformat": 4
 },
 "nbformat": 4,
 "nbformat_minor": 2
}
