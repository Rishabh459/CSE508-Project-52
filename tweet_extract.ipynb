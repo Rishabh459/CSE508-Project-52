{
 "cells": [
  {
   "cell_type": "code",
   "execution_count": null,
   "metadata": {},
   "outputs": [],
   "source": [
    "# make a twitter api call to get the tweets of the top news sources\n",
    "news_acc = ['OpIndia_com',\n",
    "            'AltNews',\n",
    "            'republic',\n",
    "            'ndtv',\n",
    "            'the_hindu',\n",
    "            'HindustanTimes']\n",
    "\n",
    "# get the tweets of tje top user of the news sources, by the number f retweets\n"
   ]
  }
 ],
 "metadata": {
  "language_info": {
   "name": "python"
  },
  "orig_nbformat": 4
 },
 "nbformat": 4,
 "nbformat_minor": 2
}
