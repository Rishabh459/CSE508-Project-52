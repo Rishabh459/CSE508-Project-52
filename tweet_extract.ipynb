{
 "cells": [
  {
   "cell_type": "code",
   "execution_count": 1,
   "metadata": {},
   "outputs": [],
   "source": [
    "import pandas as pd\n",
    "import numpy as np\n",
    "import matplotlib.pyplot as plt\n",
    "import seaborn as sns\n",
    "import warnings\n",
    "warnings.filterwarnings('ignore')\n",
    "\n",
    "import tweepy\n",
    "from tweepy import OAuthHandler"
   ]
  },
  {
   "cell_type": "code",
   "execution_count": 2,
   "metadata": {},
   "outputs": [],
   "source": [
    "# make a twitter api call to get the tweets of the top news sources\n",
    "news_acc = ['OpIndia_com',\n",
    "            'AltNews',\n",
    "            'republic',\n",
    "            'ndtv',\n",
    "            'the_hindu',\n",
    "            'HindustanTimes']\n",
    "\n",
    "# get the tweets of the top user of the news sources, by the number retweets of the news_acc\n",
    "consumer_key = 'xOJUbnLYSPtqKRVzYcPDaXAJ8'\n",
    "consumer_secret = 'vxS4jhLUklkPoLXkBbb2nLzUTyg4gNRDNccpLpPWa52J9Wsf3p'\n",
    "access_token = '1145228185639874560-5mkV07sxge7IIv94xnJqsN59EgQi1n'\n",
    "access_secret = 'a2o36ZGKgmLq07NYfnoUE8xRLSJpFTSUTSrQUHop3IsDx'\n",
    "\n",
    "auth = tweepy.OAuthHandler(consumer_key, consumer_secret)\n",
    "auth.set_access_token(access_token, access_secret)\n",
    "\n",
    "api = tweepy.API(auth)"
   ]
  },
  {
   "cell_type": "code",
   "execution_count": null,
   "metadata": {},
   "outputs": [],
   "source": [
    "def get_tp_users_of_channels(channel):\n",
    "    tweets = api.user_timeline(screen_name=channel, count=200, include_rts=False, tweet_mode='extended')\n",
    "    tweets = sorted(tweets, key=lambda x: x.retweet_count, reverse=True)\n",
    "    return tweets[0].user.screen_name"
   ]
  }
 ],
 "metadata": {
  "kernelspec": {
   "display_name": "base",
   "language": "python",
   "name": "python3"
  },
  "language_info": {
   "codemirror_mode": {
    "name": "ipython",
    "version": 3
   },
   "file_extension": ".py",
   "mimetype": "text/x-python",
   "name": "python",
   "nbconvert_exporter": "python",
   "pygments_lexer": "ipython3",
   "version": "3.8.5"
  },
  "orig_nbformat": 4
 },
 "nbformat": 4,
 "nbformat_minor": 2
}
