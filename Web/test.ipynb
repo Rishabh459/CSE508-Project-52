{
 "cells": [
  {
   "cell_type": "code",
   "execution_count": 1,
   "metadata": {},
   "outputs": [],
   "source": [
    "import os"
   ]
  },
  {
   "cell_type": "code",
   "execution_count": 9,
   "metadata": {},
   "outputs": [],
   "source": [
    "os.chdir('../tweets/')"
   ]
  },
  {
   "cell_type": "code",
   "execution_count": 10,
   "metadata": {},
   "outputs": [],
   "source": [
    "import pandas as pd"
   ]
  },
  {
   "cell_type": "code",
   "execution_count": 11,
   "metadata": {},
   "outputs": [],
   "source": [
    "df = pd.read_csv('gretaData.csv')"
   ]
  },
  {
   "cell_type": "code",
   "execution_count": 13,
   "metadata": {},
   "outputs": [],
   "source": [
    "# extract tweet only\n",
    "tweets = df['Tweet'].tolist()"
   ]
  },
  {
   "cell_type": "code",
   "execution_count": 15,
   "metadata": {},
   "outputs": [
    {
     "name": "stdout",
     "output_type": "stream",
     "text": [
      "[\"Today, after yesterday's #IPCC report, everything is back to normal – as always. We continue to ignore the climate crisis as if nothing happened. Our societies are still in denial, and those in power go on with their never ending quests to maximise profits. We cannot afford this.\", 'It is getting even more impossible to ignore the climate crisis. The fact that people in power still somehow live in denial, and actively move in the wrong direction, will eventually be seen for and understood as the unprecedented betrayal it is. It is just a matter of time.', 'Climate strike week 239. #FridaysForFuture #ClimateStrike #TomorrowIsTooLate #StopEACOP https://t.co/09mJyqRrMm', 'Climate strike week 238. #FridaysForFuture #ClimateStrike #TomorrowIsTooLate #StandWithSápmi https://t.co/C8Gog77a1A', 'School strike week 237. Today, hundreds of thousands of people were once again climate striking all over the world, demanding an end to fossil finance! ✊✊\\r\\n#TomorrowIsTooLate #FridaysForFuture\\r\\nPicture from FFF Torino https://t.co/VvxthtgeZ0', 'Join us on Friday for the next global climate strike!\\r\\nThis Friday, the 3rd of March, we will once again take it to the streets - demanding an end to fossil finances. Find or register your local strike at https://t.co/fCJs6MkADe \\r\\n#TomorrowIsTooLate https://t.co/fouIxu03BO', 'Climate strike week 236. Today one year has passed since Russia invaded Ukraine, and we stand in solidarity with Ukrainians. Slava Ukraini. #FridaysForFuture #ClimateStrike #PeopleNotProfit https://t.co/qyfyv0YFfT', 'Climate strike week 235. #FridaysForFuture #ClimateStrike #PeopleNotProfit https://t.co/45TxX73J4k', 'This is the biggest story in the world, and it must be spoken as far and wide as our voices can carry and much further still. Thank you for your support!\\r\\nI will not earn money from this book as my copyright belongs to the Greta Thunberg Foundation, so all royalties go to charity.', 'I’m so pleased to share that The Climate Book is now available in the USA and Canada! I have gathered the wisdom of over one hundred contributors to highlight the many different crises we face and equip us with the knowledge we need to avoid a climate disaster. 1/2 https://t.co/z2AD32Oac1', 'To have a chance of minimizing further irreparable damage, we have to choose: either we safeguard living conditions for all future generations, or we let a few very fortunate people maintain their constant, destructive search to maximize immediate profits.\\r\\nhttps://t.co/fjlYtZC6gA', 'Climate strike week 234. #FridaysForFuture #ClimateStrike #ForestsAreNotRenewable https://t.co/hutJ0sBVR2', 'Climate strike week 233. #FridaysForFuture #ClimateStrike #ForestsAreNotRenewable https://t.co/IZN857fdjy', 'Exxon Mobil made a $56 billion net profit for 2022, setting a company record and a historic high for the western oil industry.\\r\\n\\r\\nWhile people were struggling to pay energy bills, fossil fuel companies who also destabilize the planet made record profits.\\r\\nhttps://t.co/INP2MJadcQ', '\"All of my belongings are destroyed. There is no shelter for us, so we have been sleeping on the roadside.\"\\r\\n\\r\\n\"More than 600 people lost their lives and another 1.5 million people were forced to flee their homes.\"\\r\\n\\r\\nhttps://t.co/dAxOa3cnCt', 'Climate strike week 232. #FridaysForFuture #ClimateStrike #PeopleNotProfit https://t.co/leBTSnqFLr', \"The Greta Thunberg Foundation supports IOM's important work with people displaced by the climate crisis in Pakistan &amp; Somalia\\r\\n@unmigration is helping people to find a way to stay, adapt and move when there is no other option. You can also support IOM here: https://t.co/dCeTmVQryX\", 'Countless of people are having to flee because of the climate crisis. The time to act is now. We need to get informed, speak up on climate justice and migrant justice, and support vital organizations like @UNmigration #ClimateMigration https://t.co/ieNb6Mwd3m', 'Climate strike week 231, in Davos outside the World Economic Forum where those most responsible for the climate crisis meet. We’ve written a letter to fossil fuel CEO’s demanding no new fossil fuels. You can sign it too: https://t.co/vsr048rHuo\\r\\n\\r\\n#FridaysForFuture #ClimateStrike https://t.co/nP02hpiZh3', '”More than 90% of rainforest carbon offsets by biggest provider are worthless, analysis shows”\\r\\n\\r\\n”Investigation into Verra carbon standard finds most are ‘phantom credits’ and may worsen global heating”\\r\\n\\r\\nThis is the ugly truth of “carbon offsetting”.\\r\\nhttps://t.co/PYZTV7XdLE', 'Yesterday I was part of a group that peacefully protested the expansion of a coal mine in Germany. We were kettled by police and then detained but were let go later that evening.\\r\\n\\r\\nClimate protection is not a crime.\\r\\n#LuetziBleibt #LuetziLebt #KeepItInTheGround #ClimateJustice', 'Climate strike week 230. We are currently in Lützerath, a German village threatened to be demolished for an expansion of a coal mine. People have been resisting for years. Join us here at 12 or a local protest tomorrow to demand that #LützerathBleibt !#ClimateStrike https://t.co/hGrCK6ZQew', 'This Saturday 14/1 I will join activists in Lützerath to defend the village and stop the coalmine. Join us at 12.00 to protect life, and put people over profit!\\r\\n\\r\\nThe science is clear, the most affected people are clear: no more fossil fuels!\\r\\n#LütziBleibt #EndCoal https://t.co/pJlmRvuNpb', '\"The world remained firmly in warming’s grip last year, with extreme summer temperatures in Europe, China and elsewhere contributing to 2022 being the fifth-hottest year on record\"\\r\\n\\r\\n\"The eight warmest years on record have now occurred since 2014\"\\r\\n\\r\\nhttps://t.co/En9PFD1ksX', 'Climate strike week 229. #FridaysForFuture #ClimateStrike #PeopleNotProfit https://t.co/TzLmPuiliM', 'Climate strike week 228. The climate crisis doesn’t go on holiday. #FridaysForFuture #ClimateStrike #PeopleNotProfit https://t.co/BUwqqH7Yno', 'this is what happens when you don’t recycle your pizza boxes', 'yes, please do enlighten me. email me at smalldickenergy@getalife.com', 'Climate strike week 227. The climate crisis doesn’t go on holiday. #FridaysForFuture #ClimateStrike #PeopleNotProfit https://t.co/9o42RMhmm5', 'Climate strike week 226. #FridaysForFuture #ClimateStrike #PeopleNotProfit https://t.co/XB48RHscqP', '@_DylanHamilton_ ❤️❤️❤️', 'Climate strike week 225 in Sundsvall! #FridaysForFuture #ClimateStrike #PeopleNotProfit https://t.co/hOl6i6MVvM', 'Climate strike week 224. #FridaysForFuture #ClimateStrike #PeopleNotProfit https://t.co/kAizhxhMet', 'School strike week 223. Today we are 636 young people in @auroramalet who are suing the Swedish state for insufficient climate action. Therefore we now marched from the parliament to the court.\\r\\n\\r\\n#FridaysForFuture #ClimateStrike #Aurora #ClimateTrials #UprootTheSystem @auroramalet https://t.co/gatAMGPzcp', 'Today on Black Friday is the perfect day to sue the state over its insufficient climate policies.\\r\\n\\r\\nSo that’s what we did.\\r\\n\\r\\nSee you in court!\\r\\n \\r\\n#Aurora #ClimateTrials #UprootTheSystem', 'We are 636 young people in @auroramalet who are suing the Swedish state for insufficient climate action.\\r\\n\\r\\n”When the state carries out climate policy that threatens our human rights, it breaks the law.”\\r\\n\\r\\n#aurora #ClimateTrials #UprootTheSystem\\r\\nhttps://t.co/6qbZUO2hrE', \"2/2 Everyone can help and donate money to Jåhkågaska Sami community's fight to prevent the exploitations on their lands! All donations, big or small, are welcome and needed. #DefendTheDefenders\\r\\nFind out more about this and how to donate here:\\r\\nhttps://t.co/Yde5a6d4XO https://t.co/yffFfnMlCp\", 'For the last 12 years the Jåhkågaska Sami community has been defending its grazing lands by resisting this iron-ore mine. By doing so they have been safeguarding what keeps us all safe: biodiverse forests, intact carbon stock, clean water and air. 1/2\\r\\nhttps://t.co/ksea20htbw', 'Without any binding commitments to rapidly and immediately reduce greenhouse gases, the world stands no chance to deliver on the 1,5°C limit, and by doing so minimising risks of uprooting the life supporting systems we all depend on and endangering countless human lives.\\r\\n#COP27', 'Climate strike week 222. #FridaysForFuture #ClimateStrike #PeopleNotProfit https://t.co/ZxcwqGBn1k', 'Sverige motsätter sig skapandet av en fond för klimatskadestånd och försvårar därmed förhandlingarna på #COP27 . Den här fonden skulle ge avgörande stöd för de mest drabbade – det är en fråga om liv och död för otaliga människor.\\r\\nhttps://t.co/ODOYgoLX3R', 'School strike week 221. #FridaysForFuture #ClimateStrike #PeopleNotProfit https://t.co/0fxqg6MQQQ', '”Global Witness found more than 600 people at the talks in Egypt are linked to fossil fuels.\\r\\nThat\\'s more than the combined delegations from the 10 most climate-impacted countries.”\\r\\n\\r\\n\"If you want to address malaria, you don\\'t invite the mosquitoes”\\r\\n#COP27 \\r\\nhttps://t.co/n8XUjyXBz3', 'A billionaire emits a million times more greenhouse gases than the average person, according to Oxfam.\\r\\n\\r\\nWe know which ones we need to hold accountable for the climate crisis.', 'There is no climate justice without social justice and human rights. 4/4\\r\\nRead more here: https://t.co/07ElEovDpy\\r\\n\\r\\n#FreeAlaa #FreeThemAll #COP27 #ClimateJustice', 'Human rights and climate movements are stronger when we stand in solidarity together. Then we can also successfully push those in power to live up to significantly increased adaptation finance and immediately, drastically reduced greenhouse gas emissions. 3/4', \"One of these prisoners is Alaa Abd El-Fattah, who is now on a water strike since the beginning of COP27.\\r\\nA system that doesn't address the needs for climate justice and securing human rights is a system that has failed everyone – we need to keep both in mind. 2/4\", 'During COP27, we urge the Egyptian authorities to immediately and unconditionally release all those held simply for peacefully exercising their human rights, implementing criteria set by local NGOs for these releases: fairness, transparency, inclusiveness and urgency. 1/4', 'https://t.co/p9mE76yVOP', 'School strike week 220. #FridaysForFuture #ClimateStrike #PeopleNotProfit https://t.co/htfwNg7TGH', '”We are still here, and we are not planning on going anywhere. Young people all over the world are stepping up, showing that our leaders messed with the wrong generation.”\\r\\n\\r\\nMy full speech from The Climate Event at Southbank Centre this Sunday is here: https://t.co/d9WfUbCwSQ https://t.co/OwZcCxDHXI', 'The climate deniers and delayers are so desperate and feel so threatened that they simply make up their own “quotes” from pure lies and fantasies. This is what I have said about systems and ideologies: https://t.co/FNacu4EYZv', 'We need a loss and damage finance facility. We need climate justice. We need action.\\r\\n\\r\\nTime is running out, which is why decision makers need to step up at #COP27 \\r\\n\\r\\n#GenerateAction ⏰ @CYPavilion https://t.co/51lITtBnFA', 'This video was made for the first round of the Brazilian elections, but is still equally relevant today.\\r\\nSo much is at stake in this election – for the whole world. #Eleicoes2022', 'School strike week 219. #FridaysForFuture #ClimateStrike #PeopleNotProfit https://t.co/saZmWLKLPq', 'I want to send a massive thank you to all the contributors for your invaluable expertise and stories, as well as to everyone who made this possible! And a special thanks to my fantastic editors Chloe Currens and Cristopher Richards.\\r\\n4/4', 'I will not earn any money from this book as my copyright belongs to the Greta Thunberg Foundation. So all royalties go to charity.\\r\\n3/4', 'With over 100 incredible contributors – experts, activists and authors – it highlights many of the different faces of the crises we face, and aims to connect the dots between them.\\r\\n2/4 https://t.co/mPdVxillXx', 'Today The Climate Book is finally released in many parts of the world!\\r\\n\\r\\nI want to use my platform to share the reality of the climate crisis – to communicate a holistic picture of how the world is changing and what we need to do about it. That is why I created this book.\\r\\n1/4 https://t.co/KKNlqcRA6A', '\"Atmospheric levels of all three greenhouse gases hit record high\"\\r\\n\\r\\n\"These are respectively 149%, 262% and 124% of pre-industrial levels.\"\\r\\nhttps://t.co/9UYATW1Gfd', '”Svenska Skogen har under många år lagt mångmiljonbelopp på en kampanj som är ett skolexempel på greenwashing eftersom den påstår att ökat skogsbruk enligt rådande modell skulle vara klimatsmart.”', 'Årets mottagare av Svenska Greenwashpriset 2022 är den påkostade och missvisande PR-kampanjen Svenska Skogen, nominerad och framröstad av allmänheten.\\r\\n\\r\\nVäldigt få svenska aktörer förtjänar detta pris lika mycket som ni, stort grattis!\\r\\n\\r\\nhttps://t.co/pnsyEQxXRh', 'School strike week 218. #FridaysForFuture #ClimateStrike #PeopleNotProfit https://t.co/Fn7qQ86pY0', 'We stand in solidarity with prisoners of conscience in Egypt &amp; joined @copcivicspace petition urging Egypt to open civic space and release everyone arbitrarily detained ahead of #COP27\\r\\nSign the petition urging @AlsisiOfficial @Cop27P to #FreeThemAll\\r\\nhttps://t.co/07ElEovDpy', 'We should abandon the illusion that politicians will come to the rescue of planet Earth, especially those who delight in calling themselves climate leaders. Time and again they have betrayed the faith that has been placed in them.\\r\\n\\r\\nI write in @NewStatesman\\r\\nhttps://t.co/AI0cM0CqEN', 'I have put together a book with over 100 contributors that will share expertise and experiences from people all over the world. These crises are the biggest story in the world, and they must be spoken as far and wide as our voices can carry, and much further still. https://t.co/bP0YYDlSLn', 'School strike week 217. #FridaysForFuture #ClimateStrike #PeopleNotProfit #BijiKurdistan https://t.co/SjaXrCv197', '\"Earth’s wildlife populations have plunged by an average of 69% in just under 50 years, according to a leading scientific assessment, as humans continue to clear forests, consume beyond the limits of the planet and pollute on an industrial scale.\"\\r\\nhttps://t.co/eJCmrhitRb', 'Today as always, it’s important to watch out for those who only listen to the uncomfortable truth when it fits in their agenda. To tackle this crisis, cherry picking some aspects, taking things out of context and ignoring the rest will lead us nowhere. It only fuels culture wars.', '“We are approaching a precipice. And I would strongly suggest that those of us who have not yet been greenwashed out of our senses stand our ground. Do not let them drag us another inch closer to the edge. Right here, right now, is where we draw the line.”\\r\\nhttps://t.co/Eb6nE1ucmN', 'School strike week 216. #FridaysForFuture #ClimateStrike #PeopleNotProfit https://t.co/nKaIMKTSaY', '“Despite Egypt being called an African Cop, we’re having a very serious challenge and many countries most affected by the climate crisis won’t be represented.”\\r\\n\\r\\n“Indigenous lives matter. If Coca-Cola is going, our voices have to be heard.\"\\r\\nhttps://t.co/GmQpQzXdtl', 'The fact that the responsibility to ”fix” this falls on people who constantly cheat and sweep things under the carpet in order to benefit themselves is frightening beyond comprehension. But even more scary is the fact that media completely ignores it, letting them get away. 4/4', 'This means that the situation is much worse, and that we are heading for a hotter and more destabilised world than we thought. If this happened to almost any other issue, it would be breaking news and pretty much everyone would know it. But now, it is barely even reported. 3/4', 'These findings agrees with the major survey by the Washington post last year, showing that our emissions are underreported by up to 23%. 2/4\\r\\n\\r\\nhttps://t.co/cMJScTr0c5', 'Scientists estimate that our actual greenhouse gas emissions can be up to 20-30% higher than what we report. Future climate scenarios and the necessary emissions reductions are calculated based on the reported emissions. 1/4\\r\\nhttps://t.co/kFBKKNe6Bn']\n"
     ]
    }
   ],
   "source": [
    "print(tweets)"
   ]
  },
  {
   "cell_type": "code",
   "execution_count": 2,
   "metadata": {},
   "outputs": [
    {
     "data": {
      "text/plain": [
       "'c:\\\\Users\\\\ussin\\\\Desktop\\\\Semester 6\\\\Information Retrieval\\\\CSE508-Project-52\\\\Web'"
      ]
     },
     "execution_count": 2,
     "metadata": {},
     "output_type": "execute_result"
    }
   ],
   "source": [
    "os.getcwd()"
   ]
  },
  {
   "cell_type": "code",
   "execution_count": null,
   "metadata": {},
   "outputs": [],
   "source": []
  }
 ],
 "metadata": {
  "kernelspec": {
   "display_name": "base",
   "language": "python",
   "name": "python3"
  },
  "language_info": {
   "codemirror_mode": {
    "name": "ipython",
    "version": 3
   },
   "file_extension": ".py",
   "mimetype": "text/x-python",
   "name": "python",
   "nbconvert_exporter": "python",
   "pygments_lexer": "ipython3",
   "version": "3.8.5"
  },
  "orig_nbformat": 4
 },
 "nbformat": 4,
 "nbformat_minor": 2
}
